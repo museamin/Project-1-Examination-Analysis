{
 "cells": [
  {
   "cell_type": "code",
   "execution_count": null,
   "id": "8d226827",
   "metadata": {
    "scrolled": true
   },
   "outputs": [],
   "source": [
    "import pandas as pd\n",
    "import seaborn as sns\n",
    "import seaborn.objects as so\n",
    "import matplotlib.pyplot as plt\n",
    "import numpy as np\n",
    "from scipy import stats\n",
    "from scipy.stats import ttest_rel\n",
    "from scipy.stats import mannwhitneyu\n",
    "\n",
    "GCSE_national_data_path = \"Data_original/2223_national_data_provisional.csv\"\n",
    "\n",
    "GCSE_national_data = pd.read_csv(GCSE_national_data_path)\n",
    "\n",
    "\n",
    "GCSE_national_data.head()"
   ]
  },
  {
   "cell_type": "code",
   "execution_count": null,
   "id": "fbb32b49",
   "metadata": {},
   "outputs": [],
   "source": [
    "GCSE_subject_data_path=\"Data/subject_data_all_years.csv\"\n",
    "GCSE_subject_data= pd.read_csv(GCSE_subject_data_path)\n",
    "del GCSE_subject_data['Unnamed: 0']\n",
    "\n",
    "GCSE_subject_data"
   ]
  },
  {
   "cell_type": "code",
   "execution_count": null,
   "id": "a7e21bbc",
   "metadata": {},
   "outputs": [],
   "source": [
    "GCSE_subject_data= pd.read_csv(GCSE_subject_data_path)\n",
    "\n",
    "GCSE_subject_data_df = GCSE_subject_data[((GCSE_subject_data [\"gender\"]==\"Boys\") | (GCSE_subject_data[\"gender\"]==\"Girls\"))]\n",
    "\n",
    "GCSE_subject_data_df.head()"
   ]
  },
  {
   "cell_type": "code",
   "execution_count": null,
   "id": "0f2bbd9c",
   "metadata": {},
   "outputs": [],
   "source": [
    "GCSE_subject_data_filtered = GCSE_subject_data_df[(GCSE_subject_data_df[\"total_exam_entries\"] != \"c\")]\n",
    "GCSE_subject_data_filtered.head()"
   ]
  },
  {
   "cell_type": "code",
   "execution_count": null,
   "id": "add60bf4",
   "metadata": {},
   "outputs": [],
   "source": [
    "del GCSE_subject_data_filtered['Unnamed: 0']\n",
    "\n",
    "print(GCSE_subject_data_filtered)"
   ]
  },
  {
   "cell_type": "code",
   "execution_count": null,
   "id": "88f7ea76",
   "metadata": {},
   "outputs": [],
   "source": [
    "all_subjects= GCSE_subject_data_filtered[(GCSE_subject_data_filtered[\"subject\"] == \"All Subjects\")]\n",
    "\n",
    "all_subjects.set_index('time_period')"
   ]
  },
  {
   "cell_type": "code",
   "execution_count": null,
   "id": "6686ed1f",
   "metadata": {},
   "outputs": [],
   "source": [
    "time_periods = [\n",
    "    '202223', '202122', '202021', '201920', '201819', '201718',\n",
    "    '201617', '201516', '201415', '201314', '201213', '201112',\n",
    "    '201011', '200910'\n",
    "]\n",
    "\n",
    "boys_entries = [\n",
    "    2381705, 2294489, 2261168, 2220439, 2161431, 2143924,\n",
    "    2379498, 2264550, 2268834, 2284001, 2238514, 2180535,\n",
    "    2220810, 2321259\n",
    "]\n",
    "\n",
    "girls_entries = [\n",
    "    2354678, 2289265, 2271365, 2232353, 2171421, 2158193,\n",
    "    2411165, 2324264, 2343738, 2372286, 2347182, 2247133,\n",
    "    2290185, 2371428\n",
    "]\n",
    "\n",
    "plt.figure(figsize=(10, 6))\n",
    "\n",
    "plt.fill_between(time_periods, boys_entries, color='purple', alpha=0.3, label='Boys')\n",
    "plt.fill_between(time_periods, girls_entries, color='pink', alpha=0.3, label='Girls')\n",
    "\n",
    "plt.xlabel('Time Period')\n",
    "plt.ylabel('Total Exam Entries')\n",
    "plt.title('All Subjects Entries Over Time for Boys and Girls')\n",
    "plt.xticks(rotation=45)  \n",
    "plt.legend()\n",
    "plt.tight_layout()\n",
    "\n",
    "plt.savefig(\"Graphs\\Q2_All Subjects Entries Over Time for Boys and Girls.png\")\n",
    "plt.show()"
   ]
  },
  {
   "cell_type": "code",
   "execution_count": null,
   "id": "d87b1018",
   "metadata": {},
   "outputs": [],
   "source": [
    "\n",
    "time_periods = [\n",
    "    '202223', '202122', '202021', '201920', '201819', '201718',\n",
    "    '201617', '201516', '201415', '201314', '201213', '201112',\n",
    "    '201011', '200910'\n",
    "]\n",
    "\n",
    "boys_entries = [\n",
    "    2381705, 2294489, 2261168, 2220439, 2161431, 2143924,\n",
    "    2379498, 2264550, 2268834, 2284001, 2238514, 2180535,\n",
    "    2220810, 2321259\n",
    "]\n",
    "\n",
    "girls_entries = [\n",
    "    2354678, 2289265, 2271365, 2232353, 2171421, 2158193,\n",
    "    2411165, 2324264, 2343738, 2372286, 2347182, 2247133,\n",
    "    2290185, 2371428\n",
    "]\n",
    "\n",
    "# Creating a DataFrame for better manipulation and analysis\n",
    "data = pd.DataFrame({\n",
    "    'Time Period': time_periods,\n",
    "    'Boys Entries': boys_entries,\n",
    "    'Girls Entries': girls_entries\n",
    "})\n",
    "\n",
    "# Calculating summary statistics\n",
    "summary_stats = data.describe()\n",
    "\n",
    "# Calculating correlation between boys and girls entries\n",
    "correlation = data['Boys Entries'].corr(data['Girls Entries'])\n",
    "\n",
    "print(\"Summary Statistics:\")\n",
    "print(summary_stats)\n",
    "print(\"\\nCorrelation between Boys and Girls Entries:\", correlation)\n"
   ]
  },
  {
   "cell_type": "code",
   "execution_count": null,
   "id": "c41b23bd",
   "metadata": {},
   "outputs": [],
   "source": [
    "\n",
    "filtered_subject_data=GCSE_subject_data_filtered[(GCSE_subject_data_filtered[\"subject\"] == \"Arabic\")|\n",
    "                                   (GCSE_subject_data_filtered[\"subject\"] == \"Chinese\")| \n",
    "                                   (GCSE_subject_data_filtered[\"subject\"] == \"Classical Greek\")|\n",
    "                                   (GCSE_subject_data_filtered[\"subject\"] == \"French\")|\n",
    "                                   (GCSE_subject_data_filtered[\"subject\"] == \"Italian\")|\n",
    "                                   (GCSE_subject_data_filtered[\"subject\"] == \"Latin\")|\n",
    "                                   (GCSE_subject_data_filtered[\"subject\"] == \"Polish\")|\n",
    "                                   (GCSE_subject_data_filtered[\"subject\"] == \"Spanish\")|\n",
    "                                   (GCSE_subject_data_filtered[\"subject\"] == \"Urdu\")]\n",
    "\n",
    "filtered_subject_data"
   ]
  },
  {
   "cell_type": "code",
   "execution_count": null,
   "id": "6c2816b9",
   "metadata": {},
   "outputs": [],
   "source": [
    "filtered_subject_data['total_exam_entries'] = filtered_subject_data['total_exam_entries'].astype(int)"
   ]
  },
  {
   "cell_type": "code",
   "execution_count": null,
   "id": "d18750f0",
   "metadata": {},
   "outputs": [],
   "source": [
    "year_filtered_data_2023= filtered_subject_data[(filtered_subject_data[\"time_period\"]== 202223)] \n",
    "\n",
    "year_filtered_data_2023"
   ]
  },
  {
   "cell_type": "code",
   "execution_count": null,
   "id": "599e2a70",
   "metadata": {},
   "outputs": [],
   "source": [
    "sns.set_style(\"darkgrid\")\n",
    "sns.set(font_scale=1.25)\n",
    "\n",
    "plt.figure(figsize=(12,6))\n",
    "fig1 = sns.barplot(data=year_filtered_data_2023 , y=year_filtered_data_2023['total_exam_entries'], x=year_filtered_data_2023['subject'],hue='gender')\n",
    "plt.legend(bbox_to_anchor=(1.02, 1), loc='upper left', borderaxespad=0,fontsize=13)\n",
    "plt.title(\"GCSE Second Language 2023 Entries for Boys and Girls\",fontsize=18)\n",
    "plt.xlabel(\"Second Language Subjects\", fontsize=15)\n",
    "plt.ylabel(\"Total Entries\", fontsize=15)\n",
    "\n",
    "plt.savefig(\"Graphs\\Q2_GCSE Second Language 2023 Entries for Boys and Girls.png\")\n",
    "plt.show()"
   ]
  },
  {
   "cell_type": "code",
   "execution_count": null,
   "id": "76236c77",
   "metadata": {},
   "outputs": [],
   "source": [
    "year_filtered_data_2010= filtered_subject_data[(filtered_subject_data[\"time_period\"]== 200910)] \n",
    "\n",
    "year_filtered_data_2010"
   ]
  },
  {
   "cell_type": "code",
   "execution_count": null,
   "id": "92ee466b",
   "metadata": {},
   "outputs": [],
   "source": [
    "sns.set_style(\"darkgrid\")\n",
    "sns.set(font_scale=1.25)\n",
    "\n",
    "plt.figure(figsize=(12,6))\n",
    "fig1 = sns.barplot(data=year_filtered_data_2010 , y=year_filtered_data_2010['total_exam_entries'], x=year_filtered_data_2010['subject'],hue='gender')\n",
    "plt.legend(bbox_to_anchor=(1.02, 1), loc='upper left', borderaxespad=0,fontsize=13)\n",
    "plt.title(\"GCSE Second Language 2010 Entries for Boys and Girls\",fontsize=18)\n",
    "plt.xlabel(\"Second Language Subjects\", fontsize=15)\n",
    "plt.ylabel(\"Total Entries\", fontsize=15)\n",
    "plt.savefig(\"Graphs\\Q2_GCSE Second Language 2010 Entries for Boys and Girls.png\")\n",
    "plt.show()"
   ]
  },
  {
   "cell_type": "code",
   "execution_count": null,
   "id": "657f9e33",
   "metadata": {},
   "outputs": [],
   "source": [
    "# clean and sort the overall data which contains characteristics such as ethnicity, gender etc. \n",
    "# for the second analysis on subjects entered at GCSE by gender\n",
    "\n",
    "subject_data_df = GCSE_national_data[(GCSE_national_data[\"time_period\"]==202223) & (GCSE_national_data[\"establishment_type\"] == \"All schools\")& (GCSE_national_data[\"breakdown\"] == \"Total\") ]\n",
    "\n",
    "\n",
    "subject_data_reduced_df = subject_data_df[[\"gender\",\"t_schools\",\"t_pupils\",\n",
    "                                           \"t_entbasics\",\"pt_entbasics\",\"t_triplesci_e\",\"pt_triplesci_e\",\n",
    "                                           \"t_eballsci_ptq_ee\",\"pt_eballsci_ptq_ee\",\n",
    "                                           \"t_ent_comb_sci\",\"pt_ent_comb_sci\",\"t_ent_hist_geog\",\"pt_ent_hist_geog\",\n",
    "                                           \"t_entered_art\",\"pt_entered_art\",\"t_entered_music_qual\",\"pt_entered_music_qual\",\n",
    "                                           \"t_multilan_e\",\"pt_multilan_e\",\"avg_att8\",\"avg_p8score\"]]\n",
    "\n",
    "subject_data_reduced_df = subject_data_reduced_df.dropna(how=\"any\")\n",
    "\n",
    "subject_data_reduced_df = subject_data_reduced_df.rename(columns={\"gender\":\"Gender\",\n",
    "                                                                  \"t_schools\": \"total_num_schools\", \n",
    "                                                                  \"t_pupils\": \"total_num_pupils\",\n",
    "                                                                  \"t_entbasics\": \"tot_num_entering_english_and_maths_GCSEs\",\n",
    "                                                                  \"pt_entbasics\":\"perc_pupils_entering_english_and_maths_GCSEs\",\n",
    "                                                                  \"t_triplesci_e\":\"tot_num_entering_triple_science\",\n",
    "                                                                  \"pt_triplesci_e\":\"perc_pupils_entering_triple_science\",\n",
    "                                                                  \"t_eballsci_ptq_ee\":\"tot_num_entering_one_of_phys_chem_bio_compsci\",\n",
    "                                                                  \"pt_eballsci_ptq_ee\":\"perc_pupils_entering_one_of_phys_chem_bio_compsci\",\n",
    "                                                                  \"t_ent_comb_sci\":\"tot_num_entering_combined_science\",\n",
    "                                                                  \"pt_ent_comb_sci\":\"perc_pupils_entering_combined_science\",\n",
    "                                                                  \"t_ent_hist_geog\":\"tot_num_entering_hist_and_geog\",\n",
    "                                                                  \"pt_ent_hist_geog\":\"perc_pupils_entering_hist_and_geog\",\n",
    "                                                                  \"t_entered_art\":\"tot_num_entering_any_arts_subj\",\n",
    "                                                                  \"pt_entered_art\":\"perc_pupils_entering_any_arts_subj\",\n",
    "                                                                  \"t_entered_music_qual\":\"tot_num_entering_music_qualification\",\n",
    "                                                                  \"pt_entered_music_qual\":\"perc_pupils_entering_music_qualification\",\n",
    "                                                                  \"t_multilan_e\":\"tot_num_entering_more_than_one_lang\",\n",
    "                                                                  \"pt_multilan_e\":\"perc_pupils_entering_more_than_one_lang\",\n",
    "                                                                  \"avg_att8\":\"avg_attainment8_score:\",\n",
    "                                                                  \"avg_p8score\":\"avg_progress8_score:\"})\n",
    "\n",
    "subject_data_reduced_df = subject_data_reduced_df.reset_index(drop=True)\n",
    "\n",
    "subject_data_reduced_df\n"
   ]
  },
  {
   "cell_type": "code",
   "execution_count": null,
   "id": "7e68c30a",
   "metadata": {},
   "outputs": [],
   "source": [
    "percentage_data= subject_data_reduced_df[['Gender', 'total_num_schools',\n",
    "                                          'total_num_pupils',\n",
    "                                          'perc_pupils_entering_english_and_maths_GCSEs',\n",
    "                                          'perc_pupils_entering_one_of_phys_chem_bio_compsci', \n",
    "                                          'perc_pupils_entering_combined_science',\n",
    "                                          'perc_pupils_entering_hist_and_geog',\n",
    "                                          'perc_pupils_entering_any_arts_subj',\n",
    "                                          'perc_pupils_entering_music_qualification',\n",
    "                                          'perc_pupils_entering_more_than_one_lang',\n",
    "                                          'perc_pupils_entering_triple_science'\n",
    "                                          \n",
    "                                         ]]\n",
    "\n",
    "percentage_data=percentage_data.rename(columns={ 'total_num_schools':'Total Schools',\n",
    "                                          'total_num_pupils':'Total Students',\n",
    "                                          'perc_pupils_entering_english_and_maths_GCSEs':'Percentage English and Math',\n",
    "                                          'perc_pupils_entering_one_of_phys_chem_bio_compsci':'Percentage Chem and Bio', \n",
    "                                          'perc_pupils_entering_combined_science':'Percentage Combined Science',\n",
    "                                          'perc_pupils_entering_hist_and_geog':'Percentage History and Geography',\n",
    "                                          'perc_pupils_entering_any_arts_subj':'Percentage Art',\n",
    "                                          'perc_pupils_entering_music_qualification':'Percentage Music',\n",
    "                                          'perc_pupils_entering_more_than_one_lang':'Percentage Language',\n",
    "                                          'perc_pupils_entering_triple_science':'Percentage Triple Science'})\n",
    "\n",
    "\n",
    "percentage_data['Percentage English and Math'] = percentage_data['Percentage English and Math'].astype(float)\n",
    "percentage_data['Percentage Triple Science'] = percentage_data['Percentage Triple Science'].astype(float)\n",
    "percentage_data['Percentage Chem and Bio'] = percentage_data['Percentage Chem and Bio'].astype(float)\n",
    "percentage_data['Percentage Combined Science'] = percentage_data['Percentage Combined Science'].astype(float)\n",
    "percentage_data['Percentage History and Geography'] = percentage_data['Percentage History and Geography'].astype(float)\n",
    "percentage_data['Percentage Art'] = percentage_data['Percentage Art'].astype(float)\n",
    "percentage_data['Percentage Music'] = percentage_data['Percentage Music'].astype(float)\n",
    "percentage_data['Percentage Language'] = percentage_data['Percentage Language'].astype(float)\n",
    "percentage_data"
   ]
  },
  {
   "cell_type": "code",
   "execution_count": null,
   "id": "3b364749",
   "metadata": {},
   "outputs": [],
   "source": [
    "# Example data\n",
    "labels = ['Eng/Math', 'Chem/Bio', 'Combined Sci.', 'Hist/Geo','Art','M.','Language','Triple Sci.']\n",
    "sizes = [89.8, 24.9, 64.8, 7.9, 38.4, 6.9, 3.6, 24.8]  # Values for the slices\n",
    "explode = (0.1, 0, 0, 0, 0, 0, 0.1, 0)  # To explode the second slice (B)\n",
    "\n",
    "# Create a pie chart using Matplotlib\n",
    "plt.figure(figsize=(6, 6))\n",
    "plt.pie(sizes, explode=explode, labels=labels, autopct='%1.1f%%', startangle=150)\n",
    "plt.axis('equal')  # Equal aspect ratio ensures that pie is drawn as a circle.\n",
    "plt.legend(labels, loc=\"center left\", bbox_to_anchor=(1.3, 0.5))\n",
    "\n",
    "plt.title('Total Percentage Of GCSE Subjects')\n",
    "plt.savefig(\"Graphs\\Q2_Total Percentage Of GCSE Subjects.png\",bbox_inches=\"tight\")\n",
    "plt.show()\n",
    "\n"
   ]
  },
  {
   "cell_type": "code",
   "execution_count": null,
   "id": "a2296975",
   "metadata": {},
   "outputs": [],
   "source": [
    "labels = ['Eng/Math', 'Chem/Bio', 'Combined Sci.', 'Hist/Geo','Art','M.','Language','Triple Sci.']\n",
    "sizes = [88.7, 24.8, 63.6, 9.4, 28.3, 7.0, 3.0, 24.6]  \n",
    "explode = (0.1, 0, 0, 0, 0, 0, 0.2, 0) \n",
    "\n",
    "\n",
    "plt.figure(figsize=(6, 6))\n",
    "plt.pie(sizes, explode=explode, labels=labels, autopct='%1.1f%%', startangle=150)\n",
    "plt.axis('equal')  \n",
    "plt.legend(labels,loc=\"center left\", bbox_to_anchor=(1.3, 0.5))\n",
    "\n",
    "plt.title('Percentage Of  GCSE Subjects for Boys')\n",
    "plt.savefig(\"Graphs\\Q2_Percentage Of  GCSE Subjects for Boys.png\",bbox_inches=\"tight\")\n",
    "plt.show()"
   ]
  },
  {
   "cell_type": "code",
   "execution_count": null,
   "id": "453f24a8",
   "metadata": {},
   "outputs": [],
   "source": [
    "labels = ['Eng/Math', 'Chem/Bio', 'Combined Sci.', 'Hist/Geo','Art','M.','Language','Triple Sci.']\n",
    "sizes = [91.0, 25.1, 66.0, 6.2, 49.1, 6.7, 4.2, 25.1] \n",
    "explode = (0.1, 0, 0, 0, 0, 0, 0.2, 0) \n",
    "\n",
    "\n",
    "plt.figure(figsize=(6, 6))\n",
    "plt.pie(sizes, explode=explode, labels=labels, autopct='%1.1f%%', startangle=140)\n",
    "plt.axis('equal')  \n",
    "plt.legend(labels, loc=\"center left\", bbox_to_anchor=(1.3, 0.5))\n",
    "\n",
    "plt.title('Percentage Of  GCSE Subjects for Girls')\n",
    "plt.savefig(\"Graphs\\Q2_Percentage Of  GCSE Subjects for Girls.png\",bbox_inches=\"tight\")\n",
    "plt.show()"
   ]
  },
  {
   "cell_type": "code",
   "execution_count": null,
   "id": "bc7abe01",
   "metadata": {
    "scrolled": false
   },
   "outputs": [],
   "source": [
    "subject_data= subject_data_reduced_df[['Gender','total_num_pupils',\n",
    "                                       'tot_num_entering_english_and_maths_GCSEs',\n",
    "                                       'tot_num_entering_triple_science',\n",
    "                                       'tot_num_entering_one_of_phys_chem_bio_compsci',\n",
    "                                       'tot_num_entering_combined_science',\n",
    "                                       'tot_num_entering_hist_and_geog', \n",
    "                                       'tot_num_entering_any_arts_subj',\n",
    "                                       'tot_num_entering_music_qualification',\n",
    "                                       'tot_num_entering_more_than_one_lang']]\n",
    "\n",
    "subject_data=subject_data.rename(columns={\"total_num_pupils\":\"Total Student\",\n",
    "                             \"tot_num_entering_english_and_maths_GCSEs\":\"Math and English\",\n",
    "                             \"tot_num_entering_triple_science\":\"Triple Science\",\n",
    "                             \"tot_num_entering_one_of_phys_chem_bio_compsci\":\"Chem and Bio\",\n",
    "                             \"tot_num_entering_combined_science\":\"Combined Science\",\n",
    "                             \"tot_num_entering_hist_and_geog\":\"History and Geography\",\n",
    "                             \"tot_num_entering_any_arts_subj\":\"Art\",\n",
    "                             \"tot_num_entering_music_qualification\":\"Music\",\n",
    "                             \"tot_num_entering_more_than_one_lang\":\"Language\"})\n",
    "\n",
    "subject_data['Math and English'] = subject_data['Math and English'].astype(int)\n",
    "subject_data['Triple Science '] = subject_data['Triple Science'].str.replace(',', '').astype(int)\n",
    "subject_data['Chem and Bio'] = subject_data['Chem and Bio'].astype(int)\n",
    "subject_data['Combined Science'] = subject_data['Combined Science'].astype(int)\n",
    "subject_data['History and Geography'] = subject_data['History and Geography'].astype(int)\n",
    "subject_data['Art'] = subject_data['Art'].astype(int)\n",
    "subject_data['Music'] = subject_data['Music'].astype(int)\n",
    "subject_data['Language'] = subject_data['Language'].astype(int)\n",
    "\n",
    "subject_data\n"
   ]
  },
  {
   "cell_type": "code",
   "execution_count": null,
   "id": "7b2d1306",
   "metadata": {},
   "outputs": [],
   "source": [
    "plt.figure(figsize=(14, 8))\n",
    "\n",
    "df = pd.DataFrame({\n",
    "    'Math and English': [306059, 296793,602852],\n",
    "    'Triple Science': [85025,81828,166853],\n",
    "    'Chem and Bio':[85452,81943,167395],\n",
    "    'Combined Science':[219593,215215,434808],\n",
    "    'History and Geography':[32556,20294,52850],\n",
    "    'Art':[97520,160144, 257664],\n",
    "    'Music':[24138, 21866,46004],\n",
    "    'Language':[10205,13723,23928]},\n",
    "    index= ['Boys', 'Girls','Total'])\n",
    "\n",
    "df.T.plot(kind='bar', title= 'GCSE Subjects by Gender')\n",
    "\n",
    "plt.xticks(rotation=75)\n",
    "\n",
    "plt.savefig(\"Graphs\\Q2_GCSE Subjects by Gender.png\",bbox_inches=\"tight\") \n",
    "\n",
    "plt.show()"
   ]
  },
  {
   "cell_type": "code",
   "execution_count": null,
   "id": "3f394c17",
   "metadata": {},
   "outputs": [],
   "source": [
    "avr_attainment_scor= subject_data_reduced_df.loc[:,['Gender','total_num_pupils','avg_attainment8_score:','avg_progress8_score:']]\n",
    "\n",
    "avr_attainment_scor"
   ]
  },
  {
   "cell_type": "code",
   "execution_count": null,
   "id": "4969ee5f",
   "metadata": {},
   "outputs": [],
   "source": [
    "avr_attainment_scor['avg_attainment8_score:'] = avr_attainment_scor['avg_attainment8_score:'].astype(float)"
   ]
  },
  {
   "cell_type": "code",
   "execution_count": null,
   "id": "7cfb826c",
   "metadata": {},
   "outputs": [],
   "source": [
    "plt.figure(figsize=(6,5))\n",
    "\n",
    "# Draw a nested barplot by species and sex\n",
    "sns.barplot(x= 'avg_attainment8_score:', y='Gender',data=avr_attainment_scor, palette='hot' )\n",
    "plt.legend(bbox_to_anchor=(1.02, 1), loc='upper left', borderaxespad=0,fontsize=13)\n",
    "plt.title(\"Average Attaintment Score and Progress Score by Gender \",fontsize=15)\n",
    "plt.xlabel(\"Average Attaintment Score\", fontsize=12)\n",
    "plt.ylabel(\"Gender\", fontsize=12)\n",
    "\n",
    "plt.savefig(\"Graphs\\Q2_Average Attaintment Score and Progress Score by Gender.png\",bbox_inches=\"tight\")\n",
    "plt.show()"
   ]
  },
  {
   "cell_type": "code",
   "execution_count": null,
   "id": "79351896",
   "metadata": {},
   "outputs": [],
   "source": []
  }
 ],
 "metadata": {
  "kernelspec": {
   "display_name": "Python 3 (ipykernel)",
   "language": "python",
   "name": "python3"
  },
  "language_info": {
   "codemirror_mode": {
    "name": "ipython",
    "version": 3
   },
   "file_extension": ".py",
   "mimetype": "text/x-python",
   "name": "python",
   "nbconvert_exporter": "python",
   "pygments_lexer": "ipython3",
   "version": "3.10.13"
  }
 },
 "nbformat": 4,
 "nbformat_minor": 5
}
